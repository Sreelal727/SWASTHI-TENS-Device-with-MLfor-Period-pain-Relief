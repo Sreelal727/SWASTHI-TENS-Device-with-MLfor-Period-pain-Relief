{
  "nbformat": 4,
  "nbformat_minor": 0,
  "metadata": {
    "colab": {
      "provenance": []
    },
    "kernelspec": {
      "name": "python3",
      "display_name": "Python 3"
    },
    "language_info": {
      "name": "python"
    }
  },
  "cells": [
    {
      "cell_type": "code",
      "execution_count": 1,
      "metadata": {
        "colab": {
          "base_uri": "https://localhost:8080/"
        },
        "id": "UVVTx7oLLrN4",
        "outputId": "18552977-9244-4e57-bbf6-fdfbdf192d13"
      },
      "outputs": [
        {
          "output_type": "stream",
          "name": "stdout",
          "text": [
            "Requirement already satisfied: requests in /usr/local/lib/python3.10/dist-packages (2.32.3)\n",
            "Requirement already satisfied: charset-normalizer<4,>=2 in /usr/local/lib/python3.10/dist-packages (from requests) (3.4.0)\n",
            "Requirement already satisfied: idna<4,>=2.5 in /usr/local/lib/python3.10/dist-packages (from requests) (3.10)\n",
            "Requirement already satisfied: urllib3<3,>=1.21.1 in /usr/local/lib/python3.10/dist-packages (from requests) (2.2.3)\n",
            "Requirement already satisfied: certifi>=2017.4.17 in /usr/local/lib/python3.10/dist-packages (from requests) (2024.8.30)\n"
          ]
        }
      ],
      "source": [
        "pip install requests\n"
      ]
    },
    {
      "cell_type": "code",
      "source": [
        "import requests\n",
        "import csv\n",
        "from datetime import datetime\n",
        "\n",
        "\n",
        "channel_id = \"2733660\"\n",
        "read_api_key = \"3FL4Z3Z338O5XM47\"\n",
        "url = f\"https://api.thingspeak.com/channels/{channel_id}/feeds.json?api_key={read_api_key}&results=100\"  # Get the last 100 entries\n",
        "\n",
        "\n",
        "response = requests.get(url)\n",
        "data = response.json()\n",
        "\n",
        "\n",
        "filename = f\"thingspeak_data_{datetime.now().strftime('%Y%m%d_%H%M%S')}.csv\"\n",
        "\n",
        "\n",
        "with open(filename, mode='w', newline='') as file:\n",
        "    writer = csv.writer(file)\n",
        "\n",
        "    writer.writerow([\"Timestamp\", \"RMS\", \"Mean Frequency\", \"Variance\", \"Amplitude\"])\n",
        "\n",
        "\n",
        "    for entry in data['feeds']:\n",
        "        timestamp = entry['created_at']\n",
        "        rms = entry['field1']\n",
        "        mean_frequency = entry['field2']\n",
        "        variance = entry['field3']\n",
        "        amplitude = entry['field4']\n",
        "        writer.writerow([timestamp, rms, mean_frequency, variance, amplitude])\n",
        "\n",
        "print(f\"Data saved to {filename}\")\n"
      ],
      "metadata": {
        "colab": {
          "base_uri": "https://localhost:8080/"
        },
        "id": "E1OdN-hxLsL-",
        "outputId": "5c379210-459c-49d7-d26a-956d00a205df"
      },
      "execution_count": 1,
      "outputs": [
        {
          "output_type": "stream",
          "name": "stdout",
          "text": [
            "Data saved to thingspeak_data_20241107_194841.csv\n"
          ]
        }
      ]
    },
    {
      "cell_type": "code",
      "source": [
        "from sklearn.ensemble import RandomForestClassifier\n",
        "from sklearn.model_selection import train_test_split\n",
        "from sklearn.metrics import accuracy_score, classification_report, mean_squared_error\n",
        "import pandas as pd\n",
        "\n",
        "\n",
        "file_path = '/content/Dataset_TENS_with_status.csv'\n",
        "data = pd.read_csv(file_path)\n",
        "\n",
        "\n",
        "X = data[['RMS', 'Mean Frequency', 'Variance', 'Amplitude']]\n",
        "y_status = data['status']\n",
        "y_pain = data['pain_level']\n",
        "\n",
        "\n",
        "X_train, X_test, y_status_train, y_status_test, y_pain_train, y_pain_test = train_test_split(\n",
        "    X, y_status, y_pain, test_size=0.3, random_state=42\n",
        ")\n",
        "\n",
        "\n",
        "rf_status = RandomForestClassifier(n_estimators=100, random_state=42)\n",
        "rf_pain = RandomForestClassifier(n_estimators=100, random_state=42)\n",
        "\n",
        "\n",
        "rf_status.fit(X_train, y_status_train)\n",
        "rf_pain.fit(X_train, y_pain_train)\n",
        "\n",
        "\n",
        "y_status_pred = rf_status.predict(X_test)\n",
        "y_pain_pred = rf_pain.predict(X_test)\n",
        "\n",
        "\n",
        "status_accuracy = accuracy_score(y_status_test, y_status_pred)\n",
        "print(f\"Cramping Status Prediction Accuracy: {status_accuracy * 100:.2f}%\")\n",
        "print(\"Cramping Status Classification Report:\")\n",
        "print(classification_report(y_status_test, y_status_pred, target_names=['Not Cramping', 'Cramping']))\n",
        "\n",
        "\n",
        "if y_pain.dtype == 'int' or y_pain.dtype == 'object':\n",
        "    pain_accuracy = accuracy_score(y_pain_test, y_pain_pred)\n",
        "    print(f\"Pain Level Prediction Accuracy: {pain_accuracy * 100:.2f}%\")\n",
        "    print(\"Pain Level Classification Report:\")\n",
        "    print(classification_report(y_pain_test, y_pain_pred))\n",
        "else:\n",
        "    pain_mse = mean_squared_error(y_pain_test, y_pain_pred)\n",
        "    print(f\"Pain Level Prediction Mean Squared Error: {pain_mse:.2f}\")\n"
      ],
      "metadata": {
        "colab": {
          "base_uri": "https://localhost:8080/"
        },
        "id": "hiwwkHFzLzAG",
        "outputId": "46c4dc5d-2a81-4895-929a-d1a714e206c4"
      },
      "execution_count": 7,
      "outputs": [
        {
          "output_type": "stream",
          "name": "stdout",
          "text": [
            "Cramping Status Prediction Accuracy: 89.29%\n",
            "Cramping Status Classification Report:\n",
            "              precision    recall  f1-score   support\n",
            "\n",
            "Not Cramping       0.91      0.95      0.93        22\n",
            "    Cramping       0.80      0.67      0.73         6\n",
            "\n",
            "    accuracy                           0.89        28\n",
            "   macro avg       0.86      0.81      0.83        28\n",
            "weighted avg       0.89      0.89      0.89        28\n",
            "\n",
            "Pain Level Prediction Accuracy: 89.29%\n",
            "Pain Level Classification Report:\n",
            "              precision    recall  f1-score   support\n",
            "\n",
            "           1       0.00      0.00      0.00         1\n",
            "           2       0.92      0.92      0.92        12\n",
            "           3       0.90      0.90      0.90        10\n",
            "           4       0.00      0.00      0.00         0\n",
            "           5       1.00      1.00      1.00         2\n",
            "           8       1.00      1.00      1.00         3\n",
            "\n",
            "    accuracy                           0.89        28\n",
            "   macro avg       0.64      0.64      0.64        28\n",
            "weighted avg       0.89      0.89      0.89        28\n",
            "\n"
          ]
        },
        {
          "output_type": "stream",
          "name": "stderr",
          "text": [
            "/usr/local/lib/python3.10/dist-packages/sklearn/metrics/_classification.py:1531: UndefinedMetricWarning: Precision is ill-defined and being set to 0.0 in labels with no predicted samples. Use `zero_division` parameter to control this behavior.\n",
            "  _warn_prf(average, modifier, f\"{metric.capitalize()} is\", len(result))\n",
            "/usr/local/lib/python3.10/dist-packages/sklearn/metrics/_classification.py:1531: UndefinedMetricWarning: Recall is ill-defined and being set to 0.0 in labels with no true samples. Use `zero_division` parameter to control this behavior.\n",
            "  _warn_prf(average, modifier, f\"{metric.capitalize()} is\", len(result))\n",
            "/usr/local/lib/python3.10/dist-packages/sklearn/metrics/_classification.py:1531: UndefinedMetricWarning: Precision is ill-defined and being set to 0.0 in labels with no predicted samples. Use `zero_division` parameter to control this behavior.\n",
            "  _warn_prf(average, modifier, f\"{metric.capitalize()} is\", len(result))\n",
            "/usr/local/lib/python3.10/dist-packages/sklearn/metrics/_classification.py:1531: UndefinedMetricWarning: Recall is ill-defined and being set to 0.0 in labels with no true samples. Use `zero_division` parameter to control this behavior.\n",
            "  _warn_prf(average, modifier, f\"{metric.capitalize()} is\", len(result))\n",
            "/usr/local/lib/python3.10/dist-packages/sklearn/metrics/_classification.py:1531: UndefinedMetricWarning: Precision is ill-defined and being set to 0.0 in labels with no predicted samples. Use `zero_division` parameter to control this behavior.\n",
            "  _warn_prf(average, modifier, f\"{metric.capitalize()} is\", len(result))\n",
            "/usr/local/lib/python3.10/dist-packages/sklearn/metrics/_classification.py:1531: UndefinedMetricWarning: Recall is ill-defined and being set to 0.0 in labels with no true samples. Use `zero_division` parameter to control this behavior.\n",
            "  _warn_prf(average, modifier, f\"{metric.capitalize()} is\", len(result))\n"
          ]
        }
      ]
    },
    {
      "cell_type": "code",
      "source": [],
      "metadata": {
        "id": "D0lkNgSV4Z9E"
      },
      "execution_count": null,
      "outputs": []
    }
  ]
}